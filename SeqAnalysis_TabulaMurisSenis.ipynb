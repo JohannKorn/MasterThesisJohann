{
 "cells": [
  {
   "cell_type": "markdown",
   "id": "a6eee7f7",
   "metadata": {},
   "source": [
    "## Analysis of Sequencing Data\n",
    "\n",
    "**This is the analysis of Tabula Muris Senis Consortium sequencing data of BL6 non-myeloid brain tissue containing the age groups 3, 18, and 24 months.**<br>\n",
    "This analysis includes quality control, clustering, and annotation. Previously done clustering and cell type annotation has been preserved and was used as a guide."
   ]
  },
  {
   "cell_type": "code",
   "execution_count": 17,
   "id": "25a9a4a5",
   "metadata": {},
   "outputs": [],
   "source": [
    "import numpy as np\n",
    "import pandas as pd\n",
    "import matplotlib.pyplot as plt\n",
    "import scanpy as sc\n",
    "import anndata as ad\n",
    "import scipy.stats as st\n",
    "import sys, os\n",
    "import seaborn as sns\n",
    "from matplotlib import rc_context\n",
    "\n",
    "pd.set_option('display.max_columns', None)\n",
    "\n",
    "sc.settings.set_figure_params(\n",
    "    dpi=90,\n",
    "    facecolor=\"white\",\n",
    "    color_map= \"viridis_r\")"
   ]
  },
  {
   "cell_type": "markdown",
   "id": "2e7d20bf",
   "metadata": {},
   "source": [
    "### Reading Data\n",
    "\n",
    "We read the data from an .h5ad file that contains the raw count matrix with some annotations and metadata.\n",
    "\n",
    "Information carried over is:\n",
    "- age\n",
    "- subtissue (brain structures)\n",
    "- pre-annotated cell types (cell ontology classes)"
   ]
  },
  {
   "cell_type": "code",
   "execution_count": null,
   "id": "8c052dfa",
   "metadata": {},
   "outputs": [
    {
     "name": "stderr",
     "output_type": "stream",
     "text": [
      "C:\\Users\\Johann\\AppData\\Local\\Packages\\PythonSoftwareFoundation.Python.3.12_qbz5n2kfra8p0\\LocalCache\\local-packages\\Python312\\site-packages\\anndata\\_io\\h5ad.py:267: FutureWarning: Moving element from .uns['neighbors']['distances'] to .obsp['distances'].\n",
      "\n",
      "This is where adjacency matrices should go now.\n",
      "  return AnnData(\n",
      "C:\\Users\\Johann\\AppData\\Local\\Packages\\PythonSoftwareFoundation.Python.3.12_qbz5n2kfra8p0\\LocalCache\\local-packages\\Python312\\site-packages\\anndata\\_io\\h5ad.py:267: FutureWarning: Moving element from .uns['neighbors']['connectivities'] to .obsp['connectivities'].\n",
      "\n",
      "This is where adjacency matrices should go now.\n",
      "  return AnnData(\n"
     ]
    },
    {
     "data": {
      "text/plain": [
       "AnnData object with n_obs × n_vars = 7249 × 22966\n",
       "    obs: 'age', 'cell_type_pre', 'subtissue'"
      ]
     },
     "execution_count": 21,
     "metadata": {},
     "output_type": "execute_result"
    }
   ],
   "source": [
    "# Reading data\n",
    "adata_original = sc.read_h5ad(r\"C:\\Users\\Johann\\Documents\\Coding\\Python\\Master Thesis\\Data\\TMS_Brain_Nonmyeloid.h5ad\")\n",
    "\n",
    "# Making a clean copy ...\n",
    "adata = ad.AnnData(adata_original.X.copy())\n",
    "\n",
    "# ... but preserving some metdata\n",
    "adata.obs[\"age\"] = adata_original.obs[\"age\"].values\n",
    "adata.obs[\"cell_type_pre\"] = adata_original.obs[\"cell_ontology_class\"].values\n",
    "adata.obs[\"subtissue\"] = adata_original.obs[\"subtissue\"].values\n",
    "\n",
    "adata"
   ]
  },
  {
   "cell_type": "markdown",
   "id": "9ba83360",
   "metadata": {},
   "source": [
    "### Quality Control\n",
    "\n",
    "We calculate quality control metrics."
   ]
  },
  {
   "cell_type": "code",
   "execution_count": 22,
   "id": "a39067b2",
   "metadata": {},
   "outputs": [],
   "source": [
    "# QC"
   ]
  }
 ],
 "metadata": {
  "kernelspec": {
   "display_name": "Python 3",
   "language": "python",
   "name": "python3"
  },
  "language_info": {
   "codemirror_mode": {
    "name": "ipython",
    "version": 3
   },
   "file_extension": ".py",
   "mimetype": "text/x-python",
   "name": "python",
   "nbconvert_exporter": "python",
   "pygments_lexer": "ipython3",
   "version": "3.12.10"
  }
 },
 "nbformat": 4,
 "nbformat_minor": 5
}
