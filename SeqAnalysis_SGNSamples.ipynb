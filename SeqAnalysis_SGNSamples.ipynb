{
 "cells": [
  {
   "cell_type": "markdown",
   "id": "a6eee7f7",
   "metadata": {},
   "source": [
    "## Analysis of Sequencing Data\n",
    "\n",
    "**This is the analysis of the CBA spiral ganglion sequencing data containing age groups 3, 12, and 24 months.**<br>\n",
    "This analysis includes quality control, clustering, and annotation. Previously done clustering and cell type annotation has been preserved and was used as a guide."
   ]
  },
  {
   "cell_type": "code",
   "execution_count": 1,
   "id": "25a9a4a5",
   "metadata": {},
   "outputs": [],
   "source": [
    "import numpy as np\n",
    "import pandas as pd\n",
    "import matplotlib.pyplot as plt\n",
    "import scanpy as sc\n",
    "import anndata as ad\n",
    "import scipy.stats as st\n",
    "import sys, os\n",
    "import seaborn as sns\n",
    "from matplotlib import rc_context\n",
    "\n",
    "pd.set_option('display.max_columns', None)\n",
    "\n",
    "sc.settings.set_figure_params(\n",
    "    dpi=90,\n",
    "    facecolor=\"white\",\n",
    "    color_map= \"viridis_r\")"
   ]
  },
  {
   "cell_type": "markdown",
   "id": "2e7d20bf",
   "metadata": {},
   "source": [
    "### Reading Data\n",
    "\n",
    "We read the data from an .h5ad file that contains the raw count matrix with some annotations and metadata.\n",
    "\n",
    "Information carried over is:\n",
    "- plate ID (a unique barcode for each 384-well plate sequenced)\n",
    "- age of animals"
   ]
  },
  {
   "cell_type": "code",
   "execution_count": 4,
   "id": "8c052dfa",
   "metadata": {},
   "outputs": [
    {
     "data": {
      "text/plain": [
       "AnnData object with n_obs × n_vars = 8617 × 20454\n",
       "    obs: 'plate', 'age'"
      ]
     },
     "execution_count": 4,
     "metadata": {},
     "output_type": "execute_result"
    }
   ],
   "source": [
    "# Reading data\n",
    "adatas = {\"adata_3mo\": sc.read_h5ad(r\"C:\\Users\\Johann\\Documents\\Coding\\Python\\Master Thesis\\Data\\CBA_3mo_SGN.h5ad\"),\n",
    "          \"adata_12mo\": sc.read_h5ad(r\"C:\\Users\\Johann\\Documents\\Coding\\Python\\Master Thesis\\Data\\CBA_12mo_SGN.h5ad\"),\n",
    "          \"adata_24mo\": sc.read_h5ad(r\"C:\\Users\\Johann\\Documents\\Coding\\Python\\Master Thesis\\Data\\CBA_24mo_SGN.h5ad\")}\n",
    "\n",
    "# Concatenating all age groups\n",
    "adata_original = ad.concat([adatas[\"adata_3mo\"], adatas[\"adata_12mo\"], adatas[\"adata_24mo\"]],\n",
    "                           label= \"age\",\n",
    "                           keys= [\"3 months\", \"12 months\", \"24 months\"])\n",
    "\n",
    "# Making a clean copy ...\n",
    "adata = ad.AnnData(adata_original.X.copy())\n",
    "\n",
    "# # ... and preserving some of the metadata\n",
    "adata.obs[\"plate\"] = adata_original.obs[\"plate\"].values\n",
    "adata.obs[\"age\"] = adata_original.obs[\"age\"].values\n",
    "\n",
    "adata"
   ]
  },
  {
   "cell_type": "markdown",
   "id": "732b0a00",
   "metadata": {},
   "source": [
    "### Quality Control\n",
    "\n",
    "We calculate quality control metrics."
   ]
  },
  {
   "cell_type": "code",
   "execution_count": null,
   "id": "81b1a8ba",
   "metadata": {},
   "outputs": [],
   "source": [
    "# QC"
   ]
  }
 ],
 "metadata": {
  "kernelspec": {
   "display_name": "Python 3",
   "language": "python",
   "name": "python3"
  },
  "language_info": {
   "codemirror_mode": {
    "name": "ipython",
    "version": 3
   },
   "file_extension": ".py",
   "mimetype": "text/x-python",
   "name": "python",
   "nbconvert_exporter": "python",
   "pygments_lexer": "ipython3",
   "version": "3.12.10"
  }
 },
 "nbformat": 4,
 "nbformat_minor": 5
}
