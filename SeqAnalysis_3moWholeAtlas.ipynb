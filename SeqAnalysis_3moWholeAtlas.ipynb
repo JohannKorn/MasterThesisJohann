{
 "cells": [
  {
   "cell_type": "markdown",
   "id": "a6eee7f7",
   "metadata": {},
   "source": [
    "## Analysis of Sequencing Data\n",
    "\n",
    "**This is the analysis of the CBA whole cochlea (spiral ganglion + sensory epithelium) sequencing data.**<br>\n",
    "This analysis includes quality control, clustering, and annotation. Previously done clustering and cell type annotation has been preserved and was used as a guide."
   ]
  },
  {
   "cell_type": "code",
   "execution_count": 3,
   "id": "25a9a4a5",
   "metadata": {},
   "outputs": [],
   "source": [
    "import numpy as np\n",
    "import pandas as pd\n",
    "import matplotlib.pyplot as plt\n",
    "import scanpy as sc\n",
    "import anndata as ad\n",
    "import scipy.stats as st\n",
    "import sys, os\n",
    "import seaborn as sns\n",
    "from matplotlib import rc_context\n",
    "\n",
    "pd.set_option('display.max_columns', None)\n",
    "\n",
    "sc.settings.set_figure_params(\n",
    "    dpi=90,\n",
    "    facecolor=\"white\",\n",
    "    color_map= \"viridis_r\")"
   ]
  },
  {
   "cell_type": "markdown",
   "id": "2e7d20bf",
   "metadata": {},
   "source": [
    "### Reading Data\n",
    "\n",
    "We read the data from an .h5ad file that contains the raw count matrix with some annotations and metadata.\n",
    "\n",
    "Information carried over is:\n",
    "- plate ID (a unique barcode for each 384-well plate sequenced)\n",
    "- age of animals\n",
    "- pre-annotated cell types (for UMAP and detailed projection)\n",
    "- pre-annotated cell types corrected with batch integration\n",
    "- UMAP embedding corrected with batch integration"
   ]
  },
  {
   "cell_type": "code",
   "execution_count": 4,
   "id": "8c052dfa",
   "metadata": {},
   "outputs": [
    {
     "data": {
      "text/plain": [
       "AnnData object with n_obs × n_vars = 4807 × 15095\n",
       "    obs: 'plate', 'age', 'cell_types_pre', 'cell_types_pre2', 'cell_types_pre_integrated'\n",
       "    obsm: 'X_umap_integrated'"
      ]
     },
     "execution_count": 4,
     "metadata": {},
     "output_type": "execute_result"
    }
   ],
   "source": [
    "# Reading the data\n",
    "adata_original = sc.read_h5ad(r\"C:\\Users\\Johann\\Documents\\Coding\\Python\\Master Thesis\\Data\\CBA_3mo_CompleteCochlea_Atlas_Annotated.h5ad\")\n",
    "\n",
    "# Making a clean copy ...\n",
    "adata = ad.AnnData(adata_original.X.copy())\n",
    "\n",
    "# ... and preserving some of the metadata as well as prior cell type annotations\n",
    "adata.obs[\"plate\"] = adata_original.obs[\"plateBC\"].values\n",
    "adata.obs[\"age\"] = adata_original.obs[\"Age\"].values\n",
    "adata.obs[\"cell_types_pre\"] = adata_original.obs[\"cell_types_for_UMAP\"].values\n",
    "adata.obs[\"cell_types_pre2\"] = adata_original.obs[\"cell_types_for_detailed\"].values\n",
    "adata.obs[\"cell_types_pre_integrated\"] = adata_original.obs[\"integrated_cell_type_updated\"].values\n",
    "adata.obsm[\"X_umap_integrated\"] = adata_original.obsm[\"X_umap_integrated\"]\n",
    "\n",
    "adata"
   ]
  },
  {
   "cell_type": "markdown",
   "id": "862cd250",
   "metadata": {},
   "source": [
    "### Quality Control\n",
    "\n",
    "We calculate quality control metrics."
   ]
  },
  {
   "cell_type": "code",
   "execution_count": null,
   "id": "f3268667",
   "metadata": {},
   "outputs": [],
   "source": [
    "# QC"
   ]
  }
 ],
 "metadata": {
  "kernelspec": {
   "display_name": "Python 3",
   "language": "python",
   "name": "python3"
  },
  "language_info": {
   "codemirror_mode": {
    "name": "ipython",
    "version": 3
   },
   "file_extension": ".py",
   "mimetype": "text/x-python",
   "name": "python",
   "nbconvert_exporter": "python",
   "pygments_lexer": "ipython3",
   "version": "3.12.10"
  }
 },
 "nbformat": 4,
 "nbformat_minor": 5
}
